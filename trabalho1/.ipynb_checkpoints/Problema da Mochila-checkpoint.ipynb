{
 "cells": [
  {
   "cell_type": "code",
   "execution_count": 1,
   "metadata": {},
   "outputs": [],
   "source": [
    "import random\n",
    "\n",
    "from deap import base\n",
    "from deap import creator\n",
    "from deap import tools\n",
    "from deap import algorithms\n",
    "\n",
    "from pprint import pprint\n",
    "\n",
    "import numpy"
   ]
  },
  {
   "cell_type": "code",
   "execution_count": 2,
   "metadata": {},
   "outputs": [],
   "source": [
    "TAM_CROMOSSOMO = 12\n",
    "TAM_POPULACAO = 100\n",
    "ITENS_MOCHILA = [\n",
    "    ['bug repellent',  12,  2],\n",
    "    ['camp stove',      5,  4],\n",
    "    ['canteen (full)', 10,  7],\n",
    "    ['clothes',        11,  5],\n",
    "    ['dried food',     50,  3],\n",
    "    ['first-aid kit',  15,  3],\n",
    "    ['flashlight',      6,  2],\n",
    "    ['novel',           4,  2],\n",
    "    ['rain gear',       5,  2],\n",
    "    ['sleeping bag',   25,  3],\n",
    "    ['tent',           20, 11],\n",
    "    ['water filter',   30,  1],\n",
    "    \n",
    "]\n",
    "\n",
    "def fitness(cromossomo):\n",
    "    \"\"\"Funcao fitness para maximizar o cromossomo\n",
    "    Deve retornar uma tupla!!!\n",
    "    \"\"\"\n",
    "    peso = 0\n",
    "    preferencia=0\n",
    "    for i in range(TAM_CROMOSSOMO):\n",
    "        if cromossomo[i] == 1:\n",
    "            peso        += ITENS_MOCHILA[i][2]\n",
    "            preferencia += ITENS_MOCHILA[i][1]\n",
    "        \n",
    "    if peso > 20:\n",
    "        return -1,\n",
    "    \n",
    "    return preferencia,\n",
    "    "
   ]
  },
  {
   "cell_type": "code",
   "execution_count": 3,
   "metadata": {},
   "outputs": [],
   "source": [
    "# Define a estrategia do fitness\n",
    "# - weights: define se o problema é de maximizacao (+1) ou minimizacao (-1)\n",
    "creator.create(\"FitnessMax\", base.Fitness, weights=(1.0,))\n",
    "\n",
    "# Define a estrutura do cromossomo\n",
    "creator.create(\"Individual\", list, fitness=creator.FitnessMax)"
   ]
  },
  {
   "cell_type": "code",
   "execution_count": 4,
   "metadata": {},
   "outputs": [],
   "source": [
    "# Define os componentes para configurar a populacao\n",
    "toolbox = base.Toolbox()\n",
    "\n",
    "# Gerador para os individuos\n",
    "toolbox.register(\"attr_bool\", random.randint, 0, 1)\n",
    "\n",
    "# Inicializador da populacao\n",
    "toolbox.register(\"individual\", \n",
    "                 tools.initRepeat, \n",
    "                 creator.Individual, \n",
    "                 toolbox.attr_bool, TAM_CROMOSSOMO)\n",
    "\n",
    "toolbox.register(\"population\", tools.initRepeat, list, toolbox.individual)"
   ]
  },
  {
   "cell_type": "code",
   "execution_count": 5,
   "metadata": {},
   "outputs": [],
   "source": [
    "# Define os operadores geneticos\n",
    "toolbox.register(\"evaluate\", fitness)\n",
    "\n",
    "toolbox.register(\"mate\", tools.cxTwoPoint)\n",
    "toolbox.register(\"mutate\", tools.mutFlipBit, indpb=0.05)\n",
    "toolbox.register(\"select\", tools.selRoulette)"
   ]
  },
  {
   "cell_type": "code",
   "execution_count": 6,
   "metadata": {},
   "outputs": [],
   "source": [
    "# Define os operadores geneticos\n",
    "toolbox.register(\"evaluate\", fitness)\n",
    "\n",
    "toolbox.register(\"mate\", tools.cxUniform, indpb=0.5)\n",
    "toolbox.register(\"mutate\", tools.mutFlipBit, indpb=0.05)\n",
    "toolbox.register(\"select\", tools.selRoulette)"
   ]
  },
  {
   "cell_type": "code",
   "execution_count": 7,
   "metadata": {},
   "outputs": [],
   "source": [
    "# Define os operadores geneticos\n",
    "toolbox.register(\"evaluate\", fitness)\n",
    "\n",
    "toolbox.register(\"mate\", tools.cxTwoPoint)\n",
    "toolbox.register(\"mutate\", tools.mutFlipBit, indpb=0.05)\n",
    "toolbox.register(\"select\", tools.selTournament, tournsize=3)"
   ]
  },
  {
   "cell_type": "code",
   "execution_count": 8,
   "metadata": {},
   "outputs": [],
   "source": [
    "# Define os operadores geneticos\n",
    "toolbox.register(\"evaluate\", fitness)\n",
    "\n",
    "toolbox.register(\"mate\", tools.cxUniform)\n",
    "toolbox.register(\"mutate\", tools.mutFlipBit, indpb=0.05)\n",
    "toolbox.register(\"select\", tools.selTournament, tournsize=3)"
   ]
  },
  {
   "cell_type": "code",
   "execution_count": 9,
   "metadata": {},
   "outputs": [
    {
     "name": "stdout",
     "output_type": "stream",
     "text": [
      "[[0, 0, 1, 0, 0, 0, 0, 0, 1, 0, 1, 0],\n",
      " [0, 1, 0, 0, 0, 0, 0, 1, 1, 1, 1, 0],\n",
      " [0, 1, 1, 0, 0, 1, 1, 0, 1, 1, 0, 1],\n",
      " [0, 1, 1, 0, 1, 1, 1, 1, 1, 0, 1, 1],\n",
      " [0, 1, 0, 1, 1, 0, 1, 1, 1, 0, 0, 1],\n",
      " [0, 1, 1, 0, 0, 0, 1, 0, 1, 0, 1, 1],\n",
      " [1, 1, 0, 0, 1, 0, 1, 0, 0, 0, 1, 1],\n",
      " [0, 1, 0, 0, 0, 0, 0, 1, 1, 1, 0, 0],\n",
      " [0, 1, 1, 0, 1, 0, 1, 0, 1, 1, 1, 0],\n",
      " [0, 0, 0, 1, 1, 0, 0, 1, 0, 1, 0, 1],\n",
      " [0, 0, 1, 0, 0, 1, 1, 1, 0, 0, 0, 1],\n",
      " [0, 0, 0, 0, 0, 0, 0, 1, 0, 0, 0, 0],\n",
      " [1, 1, 1, 1, 1, 0, 0, 0, 0, 1, 0, 0],\n",
      " [0, 0, 0, 0, 1, 1, 0, 1, 0, 1, 0, 0],\n",
      " [0, 0, 0, 1, 1, 1, 1, 0, 0, 1, 1, 0],\n",
      " [0, 0, 1, 1, 1, 1, 1, 1, 0, 0, 0, 1],\n",
      " [0, 1, 0, 1, 0, 0, 0, 0, 1, 0, 1, 1],\n",
      " [1, 1, 0, 0, 0, 0, 1, 0, 1, 0, 1, 1],\n",
      " [0, 0, 0, 1, 0, 1, 0, 0, 1, 0, 0, 0],\n",
      " [1, 1, 1, 0, 1, 0, 1, 0, 1, 0, 0, 0],\n",
      " [0, 0, 1, 0, 1, 1, 0, 0, 1, 1, 0, 1],\n",
      " [0, 0, 0, 0, 1, 1, 0, 0, 0, 0, 0, 1],\n",
      " [0, 0, 1, 0, 0, 1, 1, 1, 1, 0, 1, 0],\n",
      " [0, 1, 1, 1, 0, 0, 1, 0, 0, 0, 1, 1],\n",
      " [1, 0, 1, 0, 1, 0, 0, 0, 1, 1, 0, 0],\n",
      " [0, 1, 0, 0, 0, 1, 0, 0, 1, 0, 0, 1],\n",
      " [1, 1, 0, 0, 1, 1, 0, 1, 0, 1, 1, 1],\n",
      " [0, 0, 0, 0, 1, 0, 0, 1, 0, 1, 1, 1],\n",
      " [0, 1, 1, 0, 1, 1, 0, 0, 1, 0, 1, 0],\n",
      " [0, 1, 1, 0, 0, 0, 1, 0, 1, 1, 0, 0],\n",
      " [1, 1, 1, 0, 0, 1, 0, 1, 0, 1, 0, 0],\n",
      " [0, 1, 0, 1, 1, 1, 0, 0, 1, 0, 1, 1],\n",
      " [1, 1, 1, 1, 1, 1, 0, 1, 0, 0, 0, 0],\n",
      " [1, 0, 0, 0, 1, 0, 0, 0, 1, 0, 0, 1],\n",
      " [0, 0, 1, 0, 1, 0, 0, 1, 1, 0, 1, 1],\n",
      " [1, 0, 0, 0, 0, 0, 0, 0, 0, 0, 1, 0],\n",
      " [0, 1, 1, 1, 0, 1, 1, 0, 0, 1, 1, 0],\n",
      " [0, 1, 0, 0, 0, 1, 1, 0, 0, 0, 1, 0],\n",
      " [1, 0, 0, 1, 1, 1, 0, 1, 1, 1, 0, 1],\n",
      " [0, 0, 0, 0, 1, 1, 0, 1, 1, 1, 1, 1],\n",
      " [0, 0, 1, 0, 1, 0, 1, 1, 1, 0, 1, 1],\n",
      " [1, 1, 1, 0, 1, 1, 0, 1, 1, 1, 1, 0],\n",
      " [1, 0, 1, 0, 1, 0, 0, 0, 1, 1, 0, 1],\n",
      " [0, 0, 1, 0, 0, 0, 1, 1, 1, 0, 1, 0],\n",
      " [0, 1, 1, 1, 1, 1, 0, 0, 0, 1, 1, 1],\n",
      " [1, 0, 0, 0, 0, 1, 1, 0, 1, 0, 0, 0],\n",
      " [1, 1, 0, 0, 0, 1, 0, 0, 0, 1, 0, 1],\n",
      " [1, 1, 0, 1, 1, 0, 1, 0, 0, 1, 0, 1],\n",
      " [1, 1, 0, 1, 0, 0, 0, 1, 1, 1, 1, 0],\n",
      " [1, 0, 1, 1, 0, 1, 1, 0, 0, 0, 0, 0],\n",
      " [1, 0, 1, 1, 0, 1, 1, 0, 1, 0, 0, 0],\n",
      " [1, 0, 0, 0, 1, 0, 0, 1, 0, 1, 1, 1],\n",
      " [0, 1, 0, 1, 1, 0, 0, 0, 0, 0, 0, 0],\n",
      " [1, 1, 1, 1, 0, 1, 1, 1, 1, 0, 1, 0],\n",
      " [1, 1, 1, 0, 0, 0, 1, 0, 0, 0, 1, 0],\n",
      " [0, 1, 0, 0, 1, 1, 1, 1, 1, 1, 0, 0],\n",
      " [0, 1, 1, 1, 1, 1, 1, 1, 0, 1, 0, 0],\n",
      " [0, 0, 0, 0, 1, 0, 1, 0, 1, 0, 0, 1],\n",
      " [1, 0, 1, 1, 1, 1, 0, 0, 0, 1, 0, 1],\n",
      " [0, 0, 0, 0, 1, 1, 0, 0, 1, 1, 0, 1],\n",
      " [1, 1, 1, 1, 0, 0, 0, 1, 1, 0, 1, 0],\n",
      " [0, 1, 1, 0, 0, 1, 0, 1, 1, 0, 0, 0],\n",
      " [0, 0, 1, 0, 0, 0, 1, 0, 1, 1, 1, 0],\n",
      " [1, 1, 1, 1, 1, 1, 1, 0, 0, 1, 0, 1],\n",
      " [1, 1, 1, 0, 1, 1, 0, 0, 0, 1, 1, 0],\n",
      " [1, 0, 0, 0, 1, 0, 0, 1, 0, 0, 1, 1],\n",
      " [0, 0, 0, 1, 0, 0, 1, 0, 0, 0, 1, 0],\n",
      " [1, 0, 1, 0, 0, 0, 1, 0, 0, 1, 0, 0],\n",
      " [1, 0, 0, 1, 0, 1, 1, 0, 1, 1, 1, 1],\n",
      " [0, 1, 1, 1, 1, 1, 1, 0, 1, 0, 0, 0],\n",
      " [1, 0, 1, 0, 0, 1, 1, 0, 1, 0, 0, 1],\n",
      " [1, 1, 0, 1, 1, 1, 1, 0, 0, 0, 0, 1],\n",
      " [0, 0, 1, 1, 0, 0, 1, 0, 0, 1, 0, 0],\n",
      " [1, 1, 1, 1, 1, 0, 1, 1, 1, 0, 1, 1],\n",
      " [0, 0, 0, 0, 1, 1, 0, 1, 0, 1, 0, 1],\n",
      " [0, 1, 1, 0, 1, 0, 1, 1, 0, 0, 1, 1],\n",
      " [0, 1, 0, 0, 1, 1, 1, 0, 1, 1, 0, 1],\n",
      " [0, 0, 0, 1, 0, 1, 1, 0, 0, 1, 1, 0],\n",
      " [1, 1, 0, 0, 1, 0, 1, 1, 0, 0, 1, 1],\n",
      " [0, 1, 0, 0, 1, 1, 0, 1, 0, 1, 0, 1],\n",
      " [1, 1, 1, 0, 0, 0, 1, 1, 1, 0, 1, 0],\n",
      " [0, 1, 1, 1, 1, 1, 1, 0, 0, 0, 1, 1],\n",
      " [1, 0, 0, 1, 0, 1, 1, 0, 1, 1, 0, 1],\n",
      " [1, 0, 0, 1, 0, 1, 0, 0, 1, 1, 1, 0],\n",
      " [0, 0, 0, 1, 0, 1, 1, 1, 0, 0, 1, 1],\n",
      " [0, 1, 0, 0, 1, 0, 0, 0, 0, 0, 0, 1],\n",
      " [1, 0, 1, 0, 0, 0, 1, 0, 0, 1, 0, 1],\n",
      " [1, 1, 1, 1, 1, 0, 0, 0, 1, 0, 1, 1],\n",
      " [0, 0, 0, 0, 0, 1, 1, 1, 0, 0, 0, 0],\n",
      " [1, 0, 0, 1, 0, 0, 1, 1, 0, 0, 0, 0],\n",
      " [0, 0, 1, 0, 0, 1, 1, 0, 1, 0, 0, 0],\n",
      " [1, 1, 1, 1, 0, 0, 1, 1, 1, 0, 0, 1],\n",
      " [0, 0, 0, 0, 1, 0, 0, 1, 0, 0, 1, 0],\n",
      " [0, 1, 1, 0, 0, 1, 0, 0, 0, 0, 0, 0],\n",
      " [1, 1, 0, 0, 0, 1, 0, 1, 0, 0, 1, 0],\n",
      " [0, 1, 0, 0, 0, 1, 1, 1, 1, 1, 1, 1],\n",
      " [0, 0, 1, 1, 0, 1, 0, 0, 1, 1, 0, 1],\n",
      " [1, 0, 1, 1, 0, 0, 0, 0, 1, 0, 1, 0],\n",
      " [0, 1, 1, 0, 0, 0, 0, 0, 1, 0, 0, 0],\n",
      " [1, 1, 0, 0, 0, 0, 0, 1, 0, 0, 1, 0]]\n"
     ]
    }
   ],
   "source": [
    "# Cria a populacao inicial\n",
    "populacao = toolbox.population(n=TAM_POPULACAO)\n",
    "\n",
    "pprint(populacao)"
   ]
  },
  {
   "cell_type": "code",
   "execution_count": 10,
   "metadata": {},
   "outputs": [
    {
     "name": "stdout",
     "output_type": "stream",
     "text": [
      "gen\tnevals\tavg  \tstd    \tmin\tmax\n",
      "0  \t100   \t35.42\t46.7808\t-1 \t139\n"
     ]
    },
    {
     "ename": "TypeError",
     "evalue": "cxUniform() missing 1 required positional argument: 'indpb'",
     "output_type": "error",
     "traceback": [
      "\u001b[0;31m---------------------------------------------------------------------------\u001b[0m",
      "\u001b[0;31mTypeError\u001b[0m                                 Traceback (most recent call last)",
      "\u001b[0;32m<ipython-input-10-f24e8136dab9>\u001b[0m in \u001b[0;36m<module>\u001b[0;34m\u001b[0m\n\u001b[1;32m     13\u001b[0m                                \u001b[0mstats\u001b[0m\u001b[0;34m=\u001b[0m\u001b[0mstats\u001b[0m\u001b[0;34m,\u001b[0m\u001b[0;34m\u001b[0m\u001b[0;34m\u001b[0m\u001b[0m\n\u001b[1;32m     14\u001b[0m                                \u001b[0mhalloffame\u001b[0m\u001b[0;34m=\u001b[0m\u001b[0mhof\u001b[0m\u001b[0;34m,\u001b[0m\u001b[0;34m\u001b[0m\u001b[0;34m\u001b[0m\u001b[0m\n\u001b[0;32m---> 15\u001b[0;31m                                verbose=True)\n\u001b[0m",
      "\u001b[0;32m~/.local/lib/python3.6/site-packages/deap/algorithms.py\u001b[0m in \u001b[0;36meaSimple\u001b[0;34m(population, toolbox, cxpb, mutpb, ngen, stats, halloffame, verbose)\u001b[0m\n\u001b[1;32m    166\u001b[0m \u001b[0;34m\u001b[0m\u001b[0m\n\u001b[1;32m    167\u001b[0m         \u001b[0;31m# Vary the pool of individuals\u001b[0m\u001b[0;34m\u001b[0m\u001b[0;34m\u001b[0m\u001b[0;34m\u001b[0m\u001b[0m\n\u001b[0;32m--> 168\u001b[0;31m         \u001b[0moffspring\u001b[0m \u001b[0;34m=\u001b[0m \u001b[0mvarAnd\u001b[0m\u001b[0;34m(\u001b[0m\u001b[0moffspring\u001b[0m\u001b[0;34m,\u001b[0m \u001b[0mtoolbox\u001b[0m\u001b[0;34m,\u001b[0m \u001b[0mcxpb\u001b[0m\u001b[0;34m,\u001b[0m \u001b[0mmutpb\u001b[0m\u001b[0;34m)\u001b[0m\u001b[0;34m\u001b[0m\u001b[0;34m\u001b[0m\u001b[0m\n\u001b[0m\u001b[1;32m    169\u001b[0m \u001b[0;34m\u001b[0m\u001b[0m\n\u001b[1;32m    170\u001b[0m         \u001b[0;31m# Evaluate the individuals with an invalid fitness\u001b[0m\u001b[0;34m\u001b[0m\u001b[0;34m\u001b[0m\u001b[0;34m\u001b[0m\u001b[0m\n",
      "\u001b[0;32m~/.local/lib/python3.6/site-packages/deap/algorithms.py\u001b[0m in \u001b[0;36mvarAnd\u001b[0;34m(population, toolbox, cxpb, mutpb)\u001b[0m\n\u001b[1;32m     72\u001b[0m         \u001b[0;32mif\u001b[0m \u001b[0mrandom\u001b[0m\u001b[0;34m.\u001b[0m\u001b[0mrandom\u001b[0m\u001b[0;34m(\u001b[0m\u001b[0;34m)\u001b[0m \u001b[0;34m<\u001b[0m \u001b[0mcxpb\u001b[0m\u001b[0;34m:\u001b[0m\u001b[0;34m\u001b[0m\u001b[0;34m\u001b[0m\u001b[0m\n\u001b[1;32m     73\u001b[0m             offspring[i - 1], offspring[i] = toolbox.mate(offspring[i - 1],\n\u001b[0;32m---> 74\u001b[0;31m                                                           offspring[i])\n\u001b[0m\u001b[1;32m     75\u001b[0m             \u001b[0;32mdel\u001b[0m \u001b[0moffspring\u001b[0m\u001b[0;34m[\u001b[0m\u001b[0mi\u001b[0m \u001b[0;34m-\u001b[0m \u001b[0;36m1\u001b[0m\u001b[0;34m]\u001b[0m\u001b[0;34m.\u001b[0m\u001b[0mfitness\u001b[0m\u001b[0;34m.\u001b[0m\u001b[0mvalues\u001b[0m\u001b[0;34m,\u001b[0m \u001b[0moffspring\u001b[0m\u001b[0;34m[\u001b[0m\u001b[0mi\u001b[0m\u001b[0;34m]\u001b[0m\u001b[0;34m.\u001b[0m\u001b[0mfitness\u001b[0m\u001b[0;34m.\u001b[0m\u001b[0mvalues\u001b[0m\u001b[0;34m\u001b[0m\u001b[0;34m\u001b[0m\u001b[0m\n\u001b[1;32m     76\u001b[0m \u001b[0;34m\u001b[0m\u001b[0m\n",
      "\u001b[0;31mTypeError\u001b[0m: cxUniform() missing 1 required positional argument: 'indpb'"
     ]
    }
   ],
   "source": [
    "hof = tools.HallOfFame(10)\n",
    "stats = tools.Statistics(lambda ind: ind.fitness.values)\n",
    "stats.register(\"avg\", numpy.mean)\n",
    "stats.register(\"std\", numpy.std)\n",
    "stats.register(\"min\", numpy.min)\n",
    "stats.register(\"max\", numpy.max)\n",
    "    \n",
    "pop, log = algorithms.eaSimple(populacao, \n",
    "                               toolbox, \n",
    "                               cxpb=1, \n",
    "                               mutpb=0.1, \n",
    "                               ngen=100, \n",
    "                               stats=stats, \n",
    "                               halloffame=hof, \n",
    "                               verbose=True)"
   ]
  },
  {
   "cell_type": "code",
   "execution_count": null,
   "metadata": {},
   "outputs": [],
   "source": [
    "melhor = sorted([(x, x.fitness.values) for x in pop], key=lambda x: x[1], reverse= True)\n",
    "\n",
    "i = 0\n",
    "for cromossomo in melhor[0][0]:\n",
    "    if (cromossomo == 1):\n",
    "        pprint(ITENS_MOCHILA[i][0])\n",
    "    i += 1\n",
    "\n",
    "print(melhor[0])"
   ]
  },
  {
   "cell_type": "code",
   "execution_count": null,
   "metadata": {},
   "outputs": [],
   "source": []
  }
 ],
 "metadata": {
  "kernelspec": {
   "display_name": "Python 3",
   "language": "python",
   "name": "python3"
  },
  "language_info": {
   "codemirror_mode": {
    "name": "ipython",
    "version": 3
   },
   "file_extension": ".py",
   "mimetype": "text/x-python",
   "name": "python",
   "nbconvert_exporter": "python",
   "pygments_lexer": "ipython3",
   "version": "3.6.8"
  }
 },
 "nbformat": 4,
 "nbformat_minor": 2
}
